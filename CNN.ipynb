{
  "nbformat": 4,
  "nbformat_minor": 0,
  "metadata": {
    "colab": {
      "name": "CNN.ipynb",
      "provenance": []
    },
    "kernelspec": {
      "name": "python3",
      "display_name": "Python 3"
    }
  },
  "cells": [
    {
      "cell_type": "code",
      "metadata": {
        "id": "XOD-rU2q4tJ7"
      },
      "source": [
        "#Convolutional neural network for the fashion mnist data set\r\n",
        "#Mandira Marambe\r\n",
        "\r\n",
        "#Import necessary packages\r\n",
        "import keras\r\n",
        "import numpy as np\r\n",
        "from keras.datasets import fashion_mnist\r\n",
        "from keras.models import Sequential\r\n",
        "from keras.layers import Dense, Conv2D, Flatten, MaxPooling2D, Dropout, Reshape, LSTM\r\n",
        "import matplotlib.pyplot as plt\r\n",
        "import cPickle\r\n",
        "import tensorflow as tf"
      ],
      "execution_count": null,
      "outputs": []
    },
    {
      "cell_type": "code",
      "metadata": {
        "id": "CgKj5snQ40Q6"
      },
      "source": [
        "#Import dataset and normalize to [0,1]\r\n",
        "#Has shape (num_samples, 28, 28)\r\n",
        "(data_train, labels_train), (data_test, labels_test) = fashion_mnist.load_data()\r\n",
        "data_train = data_train/255.0\r\n",
        "data_test = data_test/255.0\r\n",
        "data_train = data_train.reshape(60000, 28, 28, 1)\r\n",
        "data_test = data_test.reshape(10000, 28, 28, 1)\r\n",
        "\r\n",
        "#Create labels as one-hot vectors\r\n",
        "#labels_train and labels_test have shapes (60000, 10) and (10000 10,) respectively\r\n",
        "labels_train = keras.utils.np_utils.to_categorical(labels_train, num_classes=10)\r\n",
        "labels_test = keras.utils.np_utils.to_categorical(labels_test, num_classes=10)"
      ],
      "execution_count": null,
      "outputs": []
    },
    {
      "cell_type": "code",
      "metadata": {
        "id": "17KgsPT342Gq"
      },
      "source": [
        "#Create and train model architecture\r\n",
        "def CNN_dropout_hidden():\r\n",
        "    model = Sequential()\r\n",
        "    model.add(Conv2D(256, (3 , 3), activation = 'relu', input_shape = (28,28,1)))\r\n",
        "    model.add(Dropout(0.3))\r\n",
        "    model.add(MaxPooling2D(pool_size = (2,2), strides = None, padding = 'valid', data_format = None))\r\n",
        "    model.add(Conv2D(128, (3 , 3), activation = 'relu', input_shape = (28,28,1)))\r\n",
        "    model.add(Dropout(0.3))\r\n",
        "    model.add(MaxPooling2D(pool_size = (2,2), strides = None, padding = 'valid', data_format = None))\r\n",
        "    model.add(Flatten())\r\n",
        "    model.add(Dense(100, activation = \"relu\",kernel_initializer=\"normal\"))\r\n",
        "    model.add(Dense(100, activation = \"relu\",kernel_initializer=\"normal\"))\r\n",
        "    model.add(Dense(10, activation = \"softmax\"))\r\n",
        "    \r\n",
        "    return model\r\n",
        "\r\n",
        "#Create instance of CNN model graph\r\n",
        "CNN_dropout_hidden = CNN_dropout_hidden()\r\n",
        "\r\n",
        "#Compile model using an appropriate loss and optimizer algorithm\r\n",
        "CNN_dropout_hidden.compile(loss='categorical_crossentropy', optimizer='adam', metrics = ['accuracy'])\r\n",
        "\r\n",
        "#Train the model and assign training meta-data to a variable\r\n",
        "CNN_dropout_hidden_train = CNN_dropout_hidden.fit(data_train, labels_train, validation_data =(data_test, labels_test),epochs =200 , batch_size = 512 , shuffle = True)\r\n",
        "\r\n",
        "#Evaluate accuracy of model\r\n",
        "scores_dropout_hidden = CNN_dropout_hidden.evaluate(data_test, labels_test)\r\n",
        "\r\n",
        "#Print accuracy of model on testing set after training \r\n",
        "print(\"Accuracy :%.2f%%\" %(scores_dropout_hidden[1]*100)) "
      ],
      "execution_count": null,
      "outputs": []
    },
    {
      "cell_type": "code",
      "metadata": {
        "id": "CMizLGvV5zHH"
      },
      "source": [
        "#Plot accuracy vs epoch\r\n",
        "plt.plot (CNN_dropout_hidden_train.history['accuracy'])\r\n",
        "plt.plot (CNN_dropout_hidden_train.history['val_accuracy'])\r\n",
        "plt.title ( 'CNN [Hidden Layer Dropout] Accuracy vs Epoch' )\r\n",
        "plt.ylabel ( 'Accuracy' )\r\n",
        "plt.xlabel ( 'Epoch' )\r\n",
        "plt.legend(['train','test'], loc = 'upper left')\r\n",
        "plt.show ()"
      ],
      "execution_count": null,
      "outputs": []
    },
    {
      "cell_type": "code",
      "metadata": {
        "id": "hV1XCNC353I3"
      },
      "source": [
        "#Plot loss vs epoch\r\n",
        "plt.plot (CNN_dropout_hidden_train.history['loss'])\r\n",
        "plt.plot (CNN_dropout_hidden_train.history['val_loss'])\r\n",
        "plt.title ( 'CNN [Hidden Layer Dropout] Loss vs Epoch' )\r\n",
        "plt.ylabel ( 'Loss' )\r\n",
        "plt.xlabel ( 'Epoch' )\r\n",
        "plt.legend(['train','test'], loc = 'upper left')\r\n",
        "plt.show ()"
      ],
      "execution_count": null,
      "outputs": []
    }
  ]
}